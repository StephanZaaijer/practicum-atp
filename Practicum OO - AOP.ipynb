{
 "cells": [
  {
   "cell_type": "markdown",
   "metadata": {},
   "source": [
    "# Practicum OO - AOP\n",
    "Dit bestand bevat de practicumopgaven voor de module OO&AOP van het vak Advanced Technical Programming (TCIT-VKATP-17). \n",
    "\n",
    "Een Jupyter Notebook bestaat uit cells met code of toelichting. Sommige code-cells hoeven enkel uitgevoerd te worden om functies beschikbaar te maken, anderen moet je zelf in vullen (opdrachten staan duidelijk met kopjes gemarkeerd, je moet dan zelf de delen met TODO invullen). Je kunt de code per cel uitvoeren door de cel te selecteren en \"run cell\" te kiezen. De cel direct hieronder laadt de nodige modules in. Als je code niet naar verwachting werkt kan het zijn dat je deze cell moet runnen, of een van de andere cels vóór de cel met error. Let erop dat als je de Jupyter-server afsluit en later verder gaat moet je deze cells opnieuw runnen."
   ]
  },
  {
   "cell_type": "code",
   "execution_count": 3,
   "metadata": {
    "collapsed": true
   },
   "outputs": [],
   "source": [
    "from unittest import *    \n",
    "import doctest\n",
    "import io\n",
    "import inspect\n",
    "from contextlib import redirect_stdout"
   ]
  },
  {
   "cell_type": "markdown",
   "metadata": {},
   "source": [
    "__Opdrachten die zijn gemarkeerd met _[PORTFOLIO]_ dienen te worden opgenomen in je portfolio voor de eindopgave__.\n",
    "\n",
    "Laat deze opdrachten door je docent aftekenen aan het einde van de les (of aan het begin van de volgende les)."
   ]
  },
  {
   "cell_type": "markdown",
   "metadata": {},
   "source": [
    "***\n",
    "## College 2: Reflectie en metaprogrammeren\n",
    "Deze opdrachten gaan over het college over reflectie en metaprogrammeren en dienen aan het einde van dat college te worden gemaakt.\n",
    "\n",
    "Maak ook de opdrachten in de reader!\n",
    "\n",
    "\n",
    "#### Opdracht 2.1 — OO in Python [Portfolio]\n",
    "Een Queue is gebaseerd op het FIFO-principe: First In First Out\n",
    "\n",
    "<img src=\"queue.png\" width=\"500px\">\n",
    "\n",
    "`enqueue` voegt een element achteraan toe.  \n",
    "`dequeue` haalt een element vooraan weg.\n",
    "\n",
    "De volgende klasse implementeert Queue:"
   ]
  },
  {
   "cell_type": "code",
   "execution_count": 4,
   "metadata": {},
   "outputs": [],
   "source": [
    "class MyQueue(list):\n",
    "    def __init__(self, a=[]):\n",
    "        list.__init__(self, a)\n",
    "    \n",
    "    def dequeue(self):\n",
    "        return self.pop(0) # geen fout-afhandeling\n",
    "    \n",
    "    def enqueue(self, x):\n",
    "        self.append(x)"
   ]
  },
  {
   "cell_type": "markdown",
   "metadata": {},
   "source": [
    "Python heeft een aantal ingebouwde queue-klassen: Queue, LifeQueue, PriorityQueue, en deque.\n",
    "\n",
    "`deque` staat voor double-ended queue: aan beide kanten van de queue kan worden toegevoegd en verwijderd.\n",
    "\n",
    "Breidt de klasse `MyQueue` uit tot de klasse `MyDeQue`.\n",
    "\n",
    "De klasse heeft de volgende methoden:\n",
    "* `appendright(x)`: voeg `x` aan de rechterkant toe\n",
    "* `appendleft(x)`: voeg `x` aan de linkerkant toe\n",
    "* `popright()`: verwijder en retourneer het element dat helemaal rechts staat\n",
    "* `popleft()`: verwijder en retourneer het element dat helemaal links staat\n",
    "* `reverse()`: keer de elementen in de queue om\n",
    "* `rotateright(n)`: verschuif de elementen `n` posities naar rechts.\n",
    "  Als `n < 0`: verschuif de elementen (`-n`)  posities naar links.\n",
    "* `rotateleft(n)`: verschuif de elementen `n` posities naar links.\n",
    "  Als `n < 0`: verschuif de elementen (`-n`) posities naar rechts.\n",
    "  \n",
    "Maak zoveel mogelijk gebruik van de andere methoden en methoden uit de super-klassen. Zorg voor een goede fout-afhandeling.\n",
    "\n",
    "Denk er ook aan dat je voldoende tests schrijft om de functionaliteit zoals hierboven gegeven kan garanderen!"
   ]
  },
  {
   "cell_type": "code",
   "execution_count": 5,
   "metadata": {
    "collapsed": true
   },
   "outputs": [
    {
     "name": "stderr",
     "output_type": "stream",
     "text": [
      "..\n",
      "----------------------------------------------------------------------\n",
      "Ran 2 tests in 0.002s\n",
      "\n",
      "OK\n"
     ]
    }
   ],
   "source": [
    "class MyDeQue(MyQueue):\n",
    "    def __init__(self):\n",
    "        MyQueue.__init__(self)\n",
    "    def appendright(self, x):\n",
    "        self.append(x)\n",
    "    def appendleft(self, x):\n",
    "        self.insert(0, x)\n",
    "    def popright(self):\n",
    "        if len(self) == 0:\n",
    "            raise Exception(\"Empty Deque\")\n",
    "        return self.pop()\n",
    "    def popleft(self):\n",
    "        if len(self) == 0:\n",
    "            raise Exception(\"Empty Deque\")\n",
    "        return self.dequeue()\n",
    "    def reverse(self):\n",
    "        self = super().reverse()\n",
    "    \n",
    "    def rotateleft(self, x):\n",
    "        if x < 0:\n",
    "            self.rotateright(-x)\n",
    "        for _ in range(0, x):\n",
    "            self.appendright(self.popleft())\n",
    "            \n",
    "    def rotateright(self, x):\n",
    "        if x < 0:\n",
    "            self.rotateleft(-x)\n",
    "        for _ in range(0, x):\n",
    "            self.appendleft(self.popright())\n",
    "\n",
    "class TestMyQueue(TestCase):\n",
    "    def __init__(self, methodName: str = \"testMyQueue\"):\n",
    "        super().__init__(methodName)\n",
    "    \n",
    "    def testMyQueue(self):\n",
    "        q = MyQueue([1, 2, 3])\n",
    "        self.assertEqual(q.dequeue(), 1)\n",
    "        q.enqueue(4)\n",
    "        self.assertEqual(q, [2, 3, 4])\n",
    "        self.assertEqual(q.dequeue(), 2)\n",
    "        self.assertEqual(q.dequeue(), 3)\n",
    "        self.assertEqual(q.dequeue(), 4)\n",
    "        self.assertEqual(q, [])\n",
    "        self.assertRaises(Exception, q.dequeue)\n",
    "\n",
    "class TestMyDeQue(TestCase):\n",
    "    def __init__(self, methodName: str = \"testMyDeQue\"):\n",
    "        super().__init__(methodName)\n",
    "    \n",
    "    def testMyDeQue(self):\n",
    "        q = MyDeQue()\n",
    "        q.appendright(1)\n",
    "        q.appendright(2)\n",
    "        q.appendright(3)\n",
    "        self.assertEqual(q, [1, 2, 3])\n",
    "        q.appendleft(4)\n",
    "        self.assertEqual(q, [4, 1, 2, 3])\n",
    "        self.assertEqual(q.popleft(), 4)\n",
    "        self.assertEqual(q.popright(), 3)\n",
    "        self.assertEqual(q, [1, 2])\n",
    "        self.assertEqual(q.popleft(), 1)\n",
    "        self.assertEqual(q.popleft(), 2)\n",
    "        self.assertEqual(q, [])\n",
    "        self.assertRaises(Exception, q.popleft)\n",
    "        self.assertRaises(Exception, q.popright)\n",
    "        q.appendright(1)\n",
    "        q.appendright(2)\n",
    "        q.appendright(3)\n",
    "        q.reverse()\n",
    "        self.assertEqual(q, [3, 2, 1])\n",
    "        q.rotateright(2)\n",
    "        self.assertEqual(q, [2, 1, 3])\n",
    "        q.rotateleft(5)\n",
    "        self.assertEqual(q, [3, 2, 1])\n",
    "\n",
    "def run_tests():\n",
    "    suite = TestSuite()\n",
    "    suite.addTest(TestMyQueue())\n",
    "    suite.addTest(TestMyDeQue())\n",
    "    runner = TextTestRunner()\n",
    "    runner.run(suite)\n",
    "run_tests()"
   ]
  },
  {
   "cell_type": "markdown",
   "metadata": {},
   "source": [
    "#### Opdracht 2.2 — `eval` en veiligheid [Portfolio]\n",
    "\n",
    "Raadpleeg de site https://www.programiz.com/python-programming/methods/built-in/eval\n",
    "\n",
    "Een eenvoudige interactieve expressie-evaluator is de volgende:"
   ]
  },
  {
   "cell_type": "code",
   "execution_count": 6,
   "metadata": {},
   "outputs": [],
   "source": [
    "while True:\n",
    "    r = input(\"Type an expression: \")\n",
    "    if r != \"exit\":\n",
    "        print(\"Result:\", eval(r))\n",
    "    else:\n",
    "        break"
   ]
  },
  {
   "cell_type": "markdown",
   "metadata": {},
   "source": [
    "Een dergelijke evaluator is onveilig. Als de gebruiker in een Linux-omgeving de expressie `os.system('rm -rf *')` intikt, kan er veel schade worden aangericht. Je kunt dit voorkomen door bij de eval-functie een dictionary mee te geven.\n",
    "\n",
    "Schrijf de klasse SimpleSecureEvaluator. De klasse bevat een dictionary-attribuut `d` en een methode `eval`.\n",
    "\n",
    "De klasse wordt gebruikt bij interactieve sessies, waarbij de gebruiker het volgende kan invoeren:\n",
    "* een toekenningsopdracht. De opdracht van de vorm `<variabele> = <expressie>` wordt opgeslagen in dictionary-attribuut `d`. Hierbij wordt <variabele> als key-waarde opgeslagen. De expressie wordt eerst geëvalueerd en het resultaat wordt als value-waarde bij de key-waarde opgeslagen. Ook opdrachten van de vorm `i = i +1` zijn toegestaan, maar alleen variabelen van voorafgaande toekenningsopdrachten mogen in de expressie voorkomen.\n",
    "* een expressie. Alleen variabelen van voorafgaande toekenningsopdrachten mogen in de expressie voorkomen. Bij de evaluatie van de expressie wordt gebruik gemaakt van `d`. Het resultaat wordt aan de gebruiker getoond.\n",
    "* de opdracht `mydir`. De dictionary `d` wordt dan getoond."
   ]
  },
  {
   "cell_type": "code",
   "execution_count": 9,
   "metadata": {
    "collapsed": true
   },
   "outputs": [
    {
     "name": "stderr",
     "output_type": "stream",
     "text": [
      "."
     ]
    },
    {
     "name": "stdout",
     "output_type": "stream",
     "text": [
      "expr: a  |  1\n",
      "1\n",
      "expr: b  |  2\n",
      "2\n",
      "3\n",
      "{'a': 1, 'b': 2}\n"
     ]
    },
    {
     "name": "stderr",
     "output_type": "stream",
     "text": [
      "\n",
      "----------------------------------------------------------------------\n",
      "Ran 1 test in 0.002s\n",
      "\n",
      "OK\n"
     ]
    }
   ],
   "source": [
    "class SimpleSecureEvaluator(object):    \n",
    "    def __init__(self):\n",
    "        self.d = {} # empty dictionary\n",
    "    \n",
    "    def eval(self, e):\n",
    "        if e == \"mydir\":\n",
    "            print(self.d)\n",
    "            return\n",
    "        if '=' in e:\n",
    "            var, expr = e.split(\"=\", 1)\n",
    "            print(\"expr:\", var, '|', expr)\n",
    "            self.d[var[:-1]] = self.eval(expr)\n",
    "            return\n",
    "        for var in self.d.keys():\n",
    "            e = e.replace(str(var), str(self.d[var]))\n",
    "\n",
    "        print(eval(e))\n",
    "        return(eval(e))\n",
    "\n",
    "class TestSimpleSecureEvaluator(TestCase):\n",
    "    def __init__(self, methodName: str = \"testSimpleSecureEvaluator\"):\n",
    "        super().__init__(methodName)\n",
    "    \n",
    "    def testSimpleSecureEvaluator(self):\n",
    "        sse = SimpleSecureEvaluator()\n",
    "        sse.eval(\"a = 1\")\n",
    "        sse.eval(\"b = 2\")\n",
    "        self.assertEqual(sse.eval(\"a + b\"), 3)\n",
    "        sse.eval(\"mydir\")\n",
    "        \n",
    "def run_tests():\n",
    "    suite = TestSuite()\n",
    "    suite.addTest(TestSimpleSecureEvaluator())\n",
    "    runner = TextTestRunner()\n",
    "    runner.run(suite)\n",
    "\n",
    "run_tests()"
   ]
  },
  {
   "cell_type": "markdown",
   "metadata": {},
   "source": [
    "#### Opdracht 2.3.1 — Introspectie van functies\n",
    "Schrijf een programma dat van een gegeven pyc-file (`function_demo.pyc`) nagaat welke functies de file bevat. Bepaal bij iedere functie de signature en de documentatie. Test de functies.\n",
    "\n",
    "Ga als volgt te werk:\n",
    "* Pas de opdracht `dir(<modulename>)` toe. Het resultaat is een lijst van element-namen van de file. De lijst bevat strings.\n",
    "* Bepaal van ieder element het type. Gebruik hierbij de eval-functie.\n",
    "* Maak gebruik van het volgende: voor een functie `f` geldt: `type(f).__name__ = 'function'`.\n",
    "* Gebruikt de functies `signature` en `getdoc` van de module `inspect`."
   ]
  },
  {
   "cell_type": "code",
   "execution_count": null,
   "metadata": {},
   "outputs": [
    {
     "name": "stdout",
     "output_type": "stream",
     "text": [
      "(a:List[~A], low:int, high:int) -> None\n",
      "sort in place list a.\n",
      "parameters:\n",
      "    a: list to be sorted\n",
      "    low: lowest index of a\n",
      "    high: highest index of a\n",
      "return:\n",
      "    None\n",
      "(a:List[~A]) -> bool\n",
      "test of a gesorteerd is.\n",
      "parameters:\n",
      "    a: list to be tested\n",
      "return:\n",
      "    True if a is sorted\n",
      "    False if a is unsorted\n",
      "(a:List[~A], low:int=0, high:int=-1) -> None\n",
      "sort recursively in place list a.\n",
      "parameters:\n",
      "    a: list to be sorted\n",
      "    low: lowest index of a\n",
      "    high: highest index of a\n",
      "return:\n",
      "    None\n"
     ]
    }
   ],
   "source": [
    "# import function_demo_3_5 # Select correct import for your interpreter version\n",
    "import function_demo_3_6\n",
    "\n",
    "for object in dir(function_demo_3_6):\n",
    "    if eval(\"function_demo_3_6.{}\".format( object ) ).__class__.__name__ == \"function\":\n",
    "        print( inspect.signature( eval(\"function_demo_3_6.{}\".format( object ) ) ) )\n",
    "        print( inspect.getdoc( eval(\"function_demo_3_6.{}\".format( object ) ) ) )"
   ]
  },
  {
   "cell_type": "markdown",
   "metadata": {},
   "source": [
    "#### Opdracht 2.3.2 — Introspectie van klassen\n",
    "Schrijf een programma dat van de gegeven pyc-file (`class_demo.pyc`) nagaat welke klassen de file bevat.\n",
    "\n",
    "Ga te werk zoals bij opdracht 2.3.1.\n",
    "\n",
    "Bedenk daarbij het volgende:\n",
    "* Voor een klasse `C` geldt: `type(c).__name__ == 'type'`\n",
    "* Voor een methode `m` geldt: `type(m).__name__ == 'function'`"
   ]
  },
  {
   "cell_type": "code",
   "execution_count": null,
   "metadata": {
    "collapsed": true
   },
   "outputs": [
    {
     "name": "stdout",
     "output_type": "stream",
     "text": [
      "<class 'class_demo_3_6.BST'>\n",
      "<class 'class_demo_3_6.BSTNode'>\n"
     ]
    }
   ],
   "source": [
    "# import class_demo_3_5\n",
    "import class_demo_3_6\n",
    "\n",
    "\n",
    "for object in dir(class_demo_3_6):\n",
    "    if type( eval(\"class_demo_3_6.{}\".format( object ) ) ).__name__ == 'type':\n",
    "        print( eval(\"class_demo_3_6.{}\".format( object ) ) )\n",
    "        \n",
    "\n",
    "# TODO: zie hierboven"
   ]
  },
  {
   "cell_type": "markdown",
   "metadata": {},
   "source": [
    "#### Opdracht 2.4 — Decorators [ Portfolio]\n",
    "Een decorator is een functie die andere functies aanpast om zodanig (aspect-oriented) functionaliteit toe te voegen. Denk bijvoorbeeld aan de optie op een timing toe te  voegen (hoe lang duurt het uitvoeren van een bepaalde functie-aanroep), of security aspecten (alleen als het juiste pincode/password wordt ingevoerd na aanroep zal de functie ook echt worden uitgevoerd).\n",
    "\n",
    "Het basispatroon van een decorator is het volgende:"
   ]
  },
  {
   "cell_type": "code",
   "execution_count": null,
   "metadata": {},
   "outputs": [
    {
     "name": "stdout",
     "output_type": "stream",
     "text": [
      "successor\n",
      "4\n",
      "--------------------\n",
      "2.0\n",
      "--------------------\n",
      "sqrt\n",
      "2.0\n"
     ]
    }
   ],
   "source": [
    "from functools import wraps\n",
    "\n",
    "def myDecorator(f):\n",
    "    # Definieer een binnenste functie, die je om de 'oude' functie heen 'wrapt'\n",
    "    @wraps(f) #Gebruik van wraps niet noodzakelijk (zie reader), maar wel netter\n",
    "    def inner(*args, **kwargs): \n",
    "        # gebruik van list arguments en dict keyword arguments omdat we niet weten wat voor functie we gaan krijgen.\n",
    "        print(f.__name__)\n",
    "        result = f(*args, **kwargs)\n",
    "        # mogelijk nog meer nuttige aanroepen hier...\n",
    "        return result\n",
    "    return inner\n",
    "\n",
    "# Toepassen d.m.v. '@' alleen mogelijk bij definitie van de functie!\n",
    "@myDecorator\n",
    "def successor(x):\n",
    "    return x+1\n",
    "\n",
    "print(successor(3))\n",
    "print('-'*20)\n",
    "\n",
    "# Maar het kan ook door 'overschrijven' van eerder gedefinieerde functie (= hernoemen van de functie-pointer)\n",
    "from math import sqrt\n",
    "print(sqrt(4)) # nog niets verandert\n",
    "\n",
    "print('-'*20)\n",
    "\n",
    "sqrt = myDecorator(sqrt)\n",
    "print(sqrt(4)) # nu wel!"
   ]
  },
  {
   "cell_type": "markdown",
   "metadata": {},
   "source": [
    "Herschrijf de decorator hierboven zodat hij naar het scherm schrijft welke functie (naam) uit welke module (naam) er gedraait is. Je kan deze decorator vervolgens toepassen bij de volgende opdracht, als je kan achterhalen hoe je hem toevoegd aan __alle__ functies van __alle__ modules van de simulator."
   ]
  },
  {
   "cell_type": "markdown",
   "metadata": {},
   "source": [
    "#### Eindopdracht\n",
    "Gebruik de beschrijving van de simulator in hoofdstuk 6.1 van de reader en introspectie om:\n",
    "* Het functioneren van de simulator te achterhalen;\n",
    "* Tests te kunnen draaien om de correctheid van de simulator te achterhalen (functioneert de simulator vergelijkbaar met de fysieke opstelling?);\n",
    "* De controller unit van de simulator te vervangen door een eigen geschreven variant.\n",
    "\n",
    "De Python-byte code van de simulator is toegevoegd in de folder `simulator-3.5` (voor Python 3.5) en `simulator-3.6` (voor Python 3.6). Gebruik `main.py` om de simulator te starten.   \n",
    "De GUI vereist de installatie van PyGame; gebruik `pip3 install pygame` in een prompt om de pygame-module te installeren (draai als Admin op Windows)."
   ]
  },
  {
   "cell_type": "code",
   "execution_count": null,
   "metadata": {
    "collapsed": true
   },
   "outputs": [],
   "source": []
  }
 ],
 "metadata": {
  "kernelspec": {
   "display_name": "vision_v2",
   "language": "python",
   "name": "python3"
  },
  "language_info": {
   "codemirror_mode": {
    "name": "ipython",
    "version": 3
   },
   "file_extension": ".py",
   "mimetype": "text/x-python",
   "name": "python",
   "nbconvert_exporter": "python",
   "pygments_lexer": "ipython3",
   "version": "3.8.13"
  },
  "vscode": {
   "interpreter": {
    "hash": "f9031a21c6706621799b3fe0c649f305fac24628bbc832784fc8305b5ed31873"
   }
  }
 },
 "nbformat": 4,
 "nbformat_minor": 2
}
